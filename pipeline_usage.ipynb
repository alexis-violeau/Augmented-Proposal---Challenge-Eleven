{
 "cells": [
  {
   "cell_type": "code",
   "execution_count": 1,
   "metadata": {},
   "outputs": [],
   "source": [
    "%load_ext autoreload\n",
    "%autoreload 2"
   ]
  },
  {
   "cell_type": "markdown",
   "metadata": {},
   "source": [
    "Necessary data are provided here : https://drive.google.com/drive/folders/1hqWAJc9p1T-vO1PDQErKoudhhur1uUc6"
   ]
  },
  {
   "cell_type": "code",
   "execution_count": 2,
   "metadata": {},
   "outputs": [],
   "source": [
    "import sys\n",
    "sys.path.append('src/')\n",
    "\n",
    "import warnings\n",
    "warnings.filterwarnings('ignore')\n",
    "\n",
    "import loading\n",
    "import preprocessing\n",
    "import metrics\n",
    "import model\n",
    "import explainability"
   ]
  },
  {
   "cell_type": "code",
   "execution_count": 3,
   "metadata": {},
   "outputs": [
    {
     "name": "stdout",
     "output_type": "stream",
     "text": [
      "mutations_d77_localized.csv\n",
      "mutations_d94_localized.csv\n",
      "mutations_d93_localized.csv\n",
      ".DS_Store\n",
      "decoupage_idf.csv\n",
      "mutations_d78_localized.csv\n",
      "decoupage_communal\n",
      "mutations_d92_localized.csv\n",
      "mutations_d75_localized.csv\n",
      "mutations_d95_localized.csv\n",
      "mutations_d91_localized.csv\n"
     ]
    }
   ],
   "source": [
    "df = loading.load_data()"
   ]
  },
  {
   "cell_type": "code",
   "execution_count": 4,
   "metadata": {},
   "outputs": [],
   "source": [
    "df_sell, df_buy = preprocessing.filter_dataset(df)"
   ]
  },
  {
   "cell_type": "code",
   "execution_count": 5,
   "metadata": {},
   "outputs": [
    {
     "data": {
      "text/html": [
       "<div>\n",
       "<style scoped>\n",
       "    .dataframe tbody tr th:only-of-type {\n",
       "        vertical-align: middle;\n",
       "    }\n",
       "\n",
       "    .dataframe tbody tr th {\n",
       "        vertical-align: top;\n",
       "    }\n",
       "\n",
       "    .dataframe thead th {\n",
       "        text-align: right;\n",
       "    }\n",
       "</style>\n",
       "<table border=\"1\" class=\"dataframe\">\n",
       "  <thead>\n",
       "    <tr style=\"text-align: right;\">\n",
       "      <th></th>\n",
       "      <th>anneemut</th>\n",
       "      <th>moismut</th>\n",
       "      <th>coddep</th>\n",
       "      <th>insee</th>\n",
       "      <th>latitude</th>\n",
       "      <th>longitude</th>\n",
       "      <th>nblot</th>\n",
       "      <th>valm2</th>\n",
       "      <th>rooms</th>\n",
       "      <th>ts_date</th>\n",
       "    </tr>\n",
       "  </thead>\n",
       "  <tbody>\n",
       "    <tr>\n",
       "      <th>0</th>\n",
       "      <td>2017</td>\n",
       "      <td>12</td>\n",
       "      <td>77</td>\n",
       "      <td>77131</td>\n",
       "      <td>48.807846</td>\n",
       "      <td>3.088145</td>\n",
       "      <td>2</td>\n",
       "      <td>3244.897959</td>\n",
       "      <td>2</td>\n",
       "      <td>2017.916667</td>\n",
       "    </tr>\n",
       "  </tbody>\n",
       "</table>\n",
       "</div>"
      ],
      "text/plain": [
       "   anneemut  moismut  coddep  insee   latitude  longitude  nblot        valm2  \\\n",
       "0      2017       12      77  77131  48.807846   3.088145      2  3244.897959   \n",
       "\n",
       "   rooms      ts_date  \n",
       "0      2  2017.916667  "
      ]
     },
     "execution_count": 5,
     "metadata": {},
     "output_type": "execute_result"
    }
   ],
   "source": [
    "df_sell.head(1)"
   ]
  },
  {
   "cell_type": "code",
   "execution_count": 6,
   "metadata": {},
   "outputs": [
    {
     "data": {
      "text/html": [
       "<div>\n",
       "<style scoped>\n",
       "    .dataframe tbody tr th:only-of-type {\n",
       "        vertical-align: middle;\n",
       "    }\n",
       "\n",
       "    .dataframe tbody tr th {\n",
       "        vertical-align: top;\n",
       "    }\n",
       "\n",
       "    .dataframe thead th {\n",
       "        text-align: right;\n",
       "    }\n",
       "</style>\n",
       "<table border=\"1\" class=\"dataframe\">\n",
       "  <thead>\n",
       "    <tr style=\"text-align: right;\">\n",
       "      <th></th>\n",
       "      <th>anneemut</th>\n",
       "      <th>moismut</th>\n",
       "      <th>coddep</th>\n",
       "      <th>insee</th>\n",
       "      <th>latitude</th>\n",
       "      <th>longitude</th>\n",
       "      <th>valm2</th>\n",
       "      <th>ts_date</th>\n",
       "    </tr>\n",
       "  </thead>\n",
       "  <tbody>\n",
       "    <tr>\n",
       "      <th>0</th>\n",
       "      <td>2019</td>\n",
       "      <td>9</td>\n",
       "      <td>77</td>\n",
       "      <td>77330</td>\n",
       "      <td>48.934583</td>\n",
       "      <td>2.887611</td>\n",
       "      <td>410.447761</td>\n",
       "      <td>2019.666667</td>\n",
       "    </tr>\n",
       "  </tbody>\n",
       "</table>\n",
       "</div>"
      ],
      "text/plain": [
       "   anneemut  moismut  coddep  insee   latitude  longitude       valm2  \\\n",
       "0      2019        9      77  77330  48.934583   2.887611  410.447761   \n",
       "\n",
       "       ts_date  \n",
       "0  2019.666667  "
      ]
     },
     "execution_count": 6,
     "metadata": {},
     "output_type": "execute_result"
    }
   ],
   "source": [
    "df_buy.head(1)"
   ]
  },
  {
   "cell_type": "code",
   "execution_count": 7,
   "metadata": {},
   "outputs": [
    {
     "name": "stdout",
     "output_type": "stream",
     "text": [
      "Fitting 5 folds for each of 1 candidates, totalling 5 fits\n",
      "Mean absolute percentage error : 8.21\n",
      "Median absolute percentage error : 5.38\n"
     ]
    }
   ],
   "source": [
    "model.fit_sell_model(df_sell)"
   ]
  },
  {
   "cell_type": "code",
   "execution_count": 8,
   "metadata": {},
   "outputs": [
    {
     "name": "stdout",
     "output_type": "stream",
     "text": [
      "Fitting 5 folds for each of 1 candidates, totalling 5 fits\n",
      "Mean absolute percentage error : 56.45\n",
      "Median absolute percentage error : 20.82\n"
     ]
    }
   ],
   "source": [
    "model.fit_buy_model(df_buy)"
   ]
  },
  {
   "cell_type": "code",
   "execution_count": 12,
   "metadata": {},
   "outputs": [
    {
     "name": "stdout",
     "output_type": "stream",
     "text": [
      "Fitting 5 folds for each of 1 candidates, totalling 5 fits\n",
      "Mean absolute percentage error : 8.03\n",
      "Median absolute percentage error : 5.38\n"
     ]
    }
   ],
   "source": [
    "model.fit_sell_model_augmented(df_sell)"
   ]
  },
  {
   "cell_type": "code",
   "execution_count": 13,
   "metadata": {},
   "outputs": [
    {
     "data": {
      "image/png": "[encoded data removed]",
      "text/plain": [
       "<Figure size 400x200 with 1 Axes>"
      ]
     },
     "metadata": {},
     "output_type": "display_data"
    }
   ],
   "source": [
    "explainability.plot_pdp(df_sell)"
   ]
  },
  {
   "cell_type": "code",
   "execution_count": 15,
   "metadata": {},
   "outputs": [],
   "source": [
    "explainability.plot_ale(df_sell,col='median_rev',augmented=True)"
   ]
  },
  {
   "cell_type": "code",
   "execution_count": null,
   "metadata": {},
   "outputs": [],
   "source": []
  }
 ],
 "metadata": {
  "interpreter": {
   "hash": "af5d2a53faa2a2db829bd19c37a64435937357adf5d90c99da69cf78a67df131"
  },
  "kernelspec": {
   "display_name": "Python 3.9.7 64-bit ('SCOR': conda)",
   "language": "python",
   "name": "python3"
  },
  "language_info": {
   "codemirror_mode": {
    "name": "ipython",
    "version": 3
   },
   "file_extension": ".py",
   "mimetype": "text/x-python",
   "name": "python",
   "nbconvert_exporter": "python",
   "pygments_lexer": "ipython3",
   "version": "3.9.7"
  },
  "orig_nbformat": 4
 },
 "nbformat": 4,
 "nbformat_minor": 2
}
