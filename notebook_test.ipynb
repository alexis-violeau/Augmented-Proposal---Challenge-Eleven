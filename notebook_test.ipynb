{
 "cells": [
  {
   "cell_type": "code",
   "execution_count": 24,
   "metadata": {},
   "outputs": [
    {
     "name": "stdout",
     "output_type": "stream",
     "text": [
      "The autoreload extension is already loaded. To reload it, use:\n",
      "  %reload_ext autoreload\n"
     ]
    }
   ],
   "source": [
    "%load_ext autoreload\n",
    "%autoreload 2"
   ]
  },
  {
   "cell_type": "code",
   "execution_count": 25,
   "metadata": {},
   "outputs": [],
   "source": [
    "import pandas as pd\n",
    "import numpy as np\n",
    "import matplotlib.pyplot as plt\n",
    "\n",
    "import sys\n",
    "sys.path.append('src/')\n",
    "\n",
    "import loading"
   ]
  },
  {
   "cell_type": "code",
   "execution_count": 26,
   "metadata": {},
   "outputs": [
    {
     "name": "stdout",
     "output_type": "stream",
     "text": [
      "mutations_d77_localized.csv\n",
      "mutations_d94_localized.csv\n",
      "mutations_d93_localized.csv\n",
      ".DS_Store\n",
      "mutations_d78_localized.csv\n",
      "mutations_d92_localized.csv\n",
      "mutations_d75_localized.csv\n",
      "mutations_d95_localized.csv\n",
      "mutations_d91_localized.csv\n"
     ]
    }
   ],
   "source": [
    "df = loading.load_data()"
   ]
  },
  {
   "cell_type": "code",
   "execution_count": 28,
   "metadata": {},
   "outputs": [
    {
     "data": {
      "text/plain": [
       "Index(['idmutation', 'idmutinvar', 'idopendata', 'idnatmut', 'codservch',\n",
       "       'refdoc', 'datemut', 'anneemut', 'moismut', 'coddep', 'libnatmut',\n",
       "       'vefa', 'valeurfonc', 'nbdispo', 'nblot', 'nbcomm', 'l_codinsee',\n",
       "       'nbsection', 'l_section', 'nbpar', 'l_idpar', 'nbparmut', 'l_idparmut',\n",
       "       'nbsuf', 'sterr', 'nbvolmut', 'nblocmut', 'l_idlocmut', 'nblocmai',\n",
       "       'nblocapt', 'nblocdep', 'nblocact', 'nbapt1pp', 'nbapt2pp', 'nbapt3pp',\n",
       "       'nbapt4pp', 'nbapt5pp', 'nbmai1pp', 'nbmai2pp', 'nbmai3pp', 'nbmai4pp',\n",
       "       'nbmai5pp', 'sbati', 'sbatmai', 'sbatapt', 'sbatact', 'sapt1pp',\n",
       "       'sapt2pp', 'sapt3pp', 'sapt4pp', 'sapt5pp', 'smai1pp', 'smai2pp',\n",
       "       'smai3pp', 'smai4pp', 'smai5pp', 'codtypbien', 'libtypbien', 'latitude',\n",
       "       'longitude'],\n",
       "      dtype='object')"
      ]
     },
     "execution_count": 28,
     "metadata": {},
     "output_type": "execute_result"
    }
   ],
   "source": [
    "df.columns"
   ]
  },
  {
   "cell_type": "code",
   "execution_count": null,
   "metadata": {},
   "outputs": [],
   "source": []
  }
 ],
 "metadata": {
  "interpreter": {
   "hash": "e35c5856cff72d20e6e0e19445c0d45b03888a7b19367444be448131dd51e693"
  },
  "kernelspec": {
   "display_name": "Python 3.9.7 64-bit ('ML': conda)",
   "language": "python",
   "name": "python3"
  },
  "language_info": {
   "codemirror_mode": {
    "name": "ipython",
    "version": 3
   },
   "file_extension": ".py",
   "mimetype": "text/x-python",
   "name": "python",
   "nbconvert_exporter": "python",
   "pygments_lexer": "ipython3",
   "version": "3.9.7"
  },
  "orig_nbformat": 4
 },
 "nbformat": 4,
 "nbformat_minor": 2
}
